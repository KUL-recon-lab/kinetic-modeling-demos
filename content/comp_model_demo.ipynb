{
 "cells": [
  {
   "cell_type": "code",
   "execution_count": null,
   "id": "b40bfb80",
   "metadata": {},
   "outputs": [],
   "source": [
    "import itertools\n",
    "import numpy as np\n",
    "import matplotlib.pyplot as plt\n",
    "from sympy import sympify, symbols, lambdify"
   ]
  },
  {
   "cell_type": "code",
   "execution_count": null,
   "id": "28c8d8a4",
   "metadata": {},
   "outputs": [],
   "source": [
    "# input\n",
    "\n",
    "K1 = 0.1\n",
    "k2 = 0.12\n",
    "k3 = 0.05\n",
    "k4 = 0\n",
    "\n",
    "AIF_amps = [-2, 1.5, 0.5]\n",
    "AIF_exps = [4, 1, 0.01]\n",
    "\n",
    "t_values = np.linspace(0, 120, 1000)  # 500 points between 0 and 10"
   ]
  },
  {
   "cell_type": "code",
   "execution_count": null,
   "id": "a7e3b41e",
   "metadata": {},
   "outputs": [],
   "source": [
    "t = symbols(\"t\")\n",
    "\n",
    "if not sum(AIF_amps) == 0:\n",
    "    raise ValueError(\"sum of AIF amplitudes must be zero\")"
   ]
  },
  {
   "cell_type": "code",
   "execution_count": null,
   "id": "ea52289e",
   "metadata": {
    "lines_to_next_cell": 0
   },
   "outputs": [],
   "source": [
    "# calculate amplitudes and exponents for the united impulse response function\n",
    "a1 = (k2 + k3 + k4 - np.sqrt((k2 + k3 + k4) ** 2 - 4 * k2 * k4)) / 2\n",
    "a2 = (k2 + k3 + k4 + np.sqrt((k2 + k3 + k4) ** 2 - 4 * k2 * k4)) / 2\n",
    "\n",
    "# calculate the united impulse response function for the 1st and 2nd tissue compartment\n",
    "UIR1_exps = [a1, a2]\n",
    "UIR1_amps = [\n",
    "    K1 * (k4 - a1) / (a2 - a1),\n",
    "    K1 * (a2 - k4) / (a2 - a1),\n",
    "]\n",
    "\n",
    "UIR2_exps = [a1, a2]\n",
    "UIR2_amps = [\n",
    "    K1 * k3 / (a2 - a1),\n",
    "    -K1 * k3 / (a2 - a1),\n",
    "]"
   ]
  },
  {
   "cell_type": "code",
   "execution_count": null,
   "id": "aa70c31e",
   "metadata": {
    "lines_to_next_cell": 2
   },
   "outputs": [],
   "source": [
    "# setup the united impulse response function (sum of exponentials)\n",
    "\n",
    "UIR1_str = \"+\".join(\n",
    "    [f\"{UIR_amp}*exp(-{UIR_exp}*t)\" for UIR_amp, UIR_exp in zip(UIR1_amps, UIR1_exps)]\n",
    ")\n",
    "\n",
    "UIR1_func = sympify(UIR1_str)\n",
    "UIR1_func_numeric = lambdify(t, UIR1_func, modules=[\"numpy\"])\n",
    "\n",
    "UIR2_str = \"+\".join(\n",
    "    [f\"{UIR_amp}*exp(-{UIR_exp}*t)\" for UIR_amp, UIR_exp in zip(UIR2_amps, UIR2_exps)]\n",
    ")\n",
    "\n",
    "UIR2_func = sympify(UIR2_str)\n",
    "UIR2_func_numeric = lambdify(t, UIR2_func, modules=[\"numpy\"])\n",
    "\n",
    "# calculate the sum of the two impulse response functions\n",
    "UIR_func = UIR1_func + UIR2_func\n",
    "UIR_func_numeric = lambdify(t, UIR_func, modules=[\"numpy\"])"
   ]
  },
  {
   "cell_type": "code",
   "execution_count": null,
   "id": "1a345940",
   "metadata": {},
   "outputs": [],
   "source": [
    "# setup the arterial input function (sum of exponentials)\n",
    "\n",
    "AIF_str = \"+\".join(\n",
    "    [f\"{AIF_amp}*exp(-{AIF_exp}*t)\" for AIF_amp, AIF_exp in zip(AIF_amps, AIF_exps)]\n",
    ")\n",
    "\n",
    "AIF_func = sympify(AIF_str)\n",
    "AIF_func_numeric = lambdify(t, AIF_func, modules=[\"numpy\"])"
   ]
  },
  {
   "cell_type": "code",
   "execution_count": null,
   "id": "5fac2bf6",
   "metadata": {},
   "outputs": [],
   "source": [
    "# calculate the response of the 1st compartment\n",
    "resp1_str_list = []\n",
    "\n",
    "for (UIR_amp, UIR_exp), (AIF_amp, AIF_exp) in itertools.product(\n",
    "    zip(UIR1_amps, UIR1_exps), zip(AIF_amps, AIF_exps)\n",
    "):\n",
    "    if UIR_exp == AIF_exp:\n",
    "        tmp = f\"{AIF_amp} * {UIR_amp} * t * exp(-{UIR_exp}*t)\"\n",
    "    else:\n",
    "        tmp = f\"({AIF_amp} * {UIR_amp}) * (exp(-{UIR_exp}*t) - exp(-{AIF_exp}*t)) / ({AIF_exp} - {UIR_exp})\"\n",
    "\n",
    "    resp1_str_list.append(tmp)\n",
    "\n",
    "resp1_str = \"+\".join(resp1_str_list)\n",
    "resp1_func = sympify(resp1_str)\n",
    "resp1_func_numeric = lambdify(t, resp1_func, modules=[\"numpy\"])"
   ]
  },
  {
   "cell_type": "code",
   "execution_count": null,
   "id": "7966e731",
   "metadata": {},
   "outputs": [],
   "source": [
    "# calculate the response of the 2nd compartment\n",
    "resp2_str_list = []\n",
    "\n",
    "for (UIR_amp, UIR_exp), (AIF_amp, AIF_exp) in itertools.product(\n",
    "    zip(UIR2_amps, UIR2_exps), zip(AIF_amps, AIF_exps)\n",
    "):\n",
    "    if UIR_exp == AIF_exp:\n",
    "        tmp = f\"{AIF_amp} * {UIR_amp} * t * exp(-{UIR_exp}*t)\"\n",
    "    else:\n",
    "        tmp = f\"({AIF_amp} * {UIR_amp}) * (exp(-{UIR_exp}*t) - exp(-{AIF_exp}*t)) / ({AIF_exp} - {UIR_exp})\"\n",
    "\n",
    "    resp2_str_list.append(tmp)\n",
    "\n",
    "resp2_str = \"+\".join(resp2_str_list)\n",
    "resp2_func = sympify(resp2_str)\n",
    "resp2_func_numeric = lambdify(t, resp2_func, modules=[\"numpy\"])"
   ]
  },
  {
   "cell_type": "code",
   "execution_count": null,
   "id": "2b3ca282",
   "metadata": {
    "lines_to_next_cell": 0
   },
   "outputs": [],
   "source": [
    "# calculate the total response of the system\n",
    "resp_func = resp1_func + resp2_func\n",
    "resp_func_numeric = lambdify(t, resp_func, modules=[\"numpy\"])\n",
    "\n",
    "#"
   ]
  },
  {
   "cell_type": "code",
   "execution_count": null,
   "id": "8fdf50c3",
   "metadata": {},
   "outputs": [],
   "source": [
    "# Plot the function\n",
    "\n",
    "\n",
    "fig, ax = plt.subplots(1, 3, figsize=(12, 4), tight_layout=True, sharex=True)\n",
    "if k3 != 0:\n",
    "    ax[0].plot(\n",
    "        t_values,\n",
    "        UIR1_func_numeric(t_values),\n",
    "        \"--\",\n",
    "        label=\"IR C1\",\n",
    "        color=plt.cm.tab10(1),\n",
    "    )\n",
    "    ax[0].plot(\n",
    "        t_values, UIR2_func_numeric(t_values), \":\", label=\"IR C2\", color=plt.cm.tab10(2)\n",
    "    )\n",
    "    ax[0].plot(\n",
    "        t_values,\n",
    "        UIR_func_numeric(t_values),\n",
    "        label=\"IR (C1 + C2)\",\n",
    "        color=plt.cm.tab10(0),\n",
    "    )\n",
    "else:\n",
    "    ax[0].plot(\n",
    "        t_values, UIR1_func_numeric(t_values), label=\"IR C1\", color=plt.cm.tab10(0)\n",
    "    )\n",
    "\n",
    "\n",
    "ax[0].legend()\n",
    "ax[0].set_ylabel(\"IR(t)\")\n",
    "ax[0].set_ylim(0, None)\n",
    "ax[0].set_title(\n",
    "    f\"impulse responses: K1={K1}, k2={k2}, k3={k3}, k4={k4}\", fontsize=\"medium\"\n",
    ")\n",
    "\n",
    "ax[1].plot(t_values, AIF_func_numeric(t_values), \"k\")\n",
    "ax[1].set_ylabel(\"Ca(t)\")\n",
    "ax[1].set_title(f\"arterial input function\", fontsize=\"medium\")\n",
    "\n",
    "if k3 != 0:\n",
    "    ax[2].plot(\n",
    "        t_values, resp1_func_numeric(t_values), \"--\", label=\"C1\", color=plt.cm.tab10(1)\n",
    "    )\n",
    "    ax[2].plot(\n",
    "        t_values, resp2_func_numeric(t_values), \":\", label=\"C2\", color=plt.cm.tab10(2)\n",
    "    )\n",
    "    ax[2].plot(\n",
    "        t_values, resp_func_numeric(t_values), label=\"C1 + C2\", color=plt.cm.tab10(0)\n",
    "    )\n",
    "else:\n",
    "    ax[2].plot(\n",
    "        t_values, resp1_func_numeric(t_values), label=\"C1\", color=plt.cm.tab10(0)\n",
    "    )\n",
    "ax[2].legend()\n",
    "ax[2].set_ylabel(\"C(t)\")\n",
    "ax[2].set_title(f\"system responses\", fontsize=\"medium\")\n",
    "\n",
    "for axx in ax.ravel():\n",
    "    axx.set_xlabel(\"t\")\n",
    "    axx.grid(ls=\":\")\n",
    "fig.show()"
   ]
  }
 ],
 "metadata": {
  "jupytext": {
   "cell_metadata_filter": "-all",
   "main_language": "python",
   "notebook_metadata_filter": "-all"
  }
 },
 "nbformat": 4,
 "nbformat_minor": 5
}
